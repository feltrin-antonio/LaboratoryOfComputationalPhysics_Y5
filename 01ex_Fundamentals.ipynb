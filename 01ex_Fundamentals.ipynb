{
 "cells": [
  {
   "cell_type": "markdown",
   "metadata": {},
   "source": [
    "0\\. Implement a function (whatever you want) and save it to a file (e.g. `function.py`). Import that file and use that function in this notebook.\n"
   ]
  },
  {
   "cell_type": "code",
   "execution_count": 1,
   "metadata": {},
   "outputs": [
    {
     "name": "stdout",
     "output_type": "stream",
     "text": [
      "['a', 'b', 1, 2]\n"
     ]
    }
   ],
   "source": [
    "from prova import flattr \n",
    "name=[['a','b'],[1,2]]\n",
    "flattened = flattr(name)"
   ]
  },
  {
   "cell_type": "markdown",
   "metadata": {},
   "source": [
    "1\\. Write the following as a list comprehension"
   ]
  },
  {
   "cell_type": "code",
   "execution_count": 35,
   "metadata": {},
   "outputs": [
    {
     "name": "stdout",
     "output_type": "stream",
     "text": [
      "[(0, 0), (0, 1), (0, 2), (0, 3), (1, 0), (1, 1), (1, 2), (1, 3), (2, 0), (2, 1), (2, 2), (2, 3)]\n",
      "[0, 4, 16]\n",
      "ans1 [0, 4, 16, 36, 64, 100, 144, 196]\n"
     ]
    }
   ],
   "source": [
    "# 1\n",
    "ans = []\n",
    "for i in range(3):\n",
    "    for j in range(4):\n",
    "        ans.append((i, j))\n",
    "print (ans)\n",
    "\n",
    "#1b\n",
    "ans1=[(a,b) for a in range(3)for b in range(4)]\n",
    "\n",
    "\n",
    "# 2\n",
    "ans = map(lambda x: x*x, filter(lambda x: x%2 == 0, range(5)))\n",
    "print (list(ans))\n",
    "\n",
    "#2b\n",
    "ans1=[x*x for x in range(5) if(x%2==0)]\n",
    "print('ans1',ans1)"
   ]
  },
  {
   "cell_type": "markdown",
   "metadata": {},
   "source": [
    "2\\. Convert the following function into a pure function with no global variables or side effects"
   ]
  },
  {
   "cell_type": "code",
   "execution_count": 36,
   "metadata": {},
   "outputs": [
    {
     "name": "stdout",
     "output_type": "stream",
     "text": [
      "ans [1, 2, 3, 0, 1, 2, 3, 4]\n",
      "alist [1, 2, 3, 0, 1, 2, 3, 4]\n",
      "ans1 [1, 2, 3, 0, 1, 2, 3, 4, 5]\n",
      "alist1 [1, 2, 3]\n"
     ]
    }
   ],
   "source": [
    "x = 5\n",
    "def f(alist):\n",
    "    for i in range(x):\n",
    "         alist.append(i)\n",
    "    return alist\n",
    "\n",
    "alist = [1,2,3]\n",
    "ans = f(alist)\n",
    "print (\"ans\",ans)\n",
    "print (\"alist\",alist) # alist has been changed!\n",
    "\n",
    "\n",
    "def f1(alist,x):\n",
    "    asize=len(alist)# contrary to c++, writing a2=a works both ways (change a2=>a is changed)\n",
    "    alist2=[]#so in python \"=\" assigns both variable names to same memory address\n",
    "    for i in range(asize): # so we just create a2 from scratch, then fill it element by element\n",
    "        alist2.append(alist[i])\n",
    "    for i in range(x):\n",
    "        alist2.append(i)\n",
    "    return alist2\n",
    "\n",
    "x=6\n",
    "alist1=[1,2,3]\n",
    "ans1=f1(alist1,x)\n",
    "print(\"ans1\",ans1)\n",
    "print(\"alist1\",alist1)"
   ]
  },
  {
   "cell_type": "markdown",
   "metadata": {},
   "source": [
    "3\\. Write a `decorator` hello that makes every wrapped function print “Hello!”, i.e. something like:\n",
    "\n",
    "```python\n",
    "@hello\n",
    "def square(x):\n",
    "    return x*x\n",
    "```"
   ]
  },
  {
   "cell_type": "code",
   "execution_count": 8,
   "metadata": {},
   "outputs": [
    {
     "name": "stdout",
     "output_type": "stream",
     "text": [
      "Hello!\n",
      "49\n"
     ]
    }
   ],
   "source": [
    "def polite(func):\n",
    "    def wrapper(*args, **kwargs):\n",
    "        print(\"Hello!\")\n",
    "        return func(*args, **kwargs)\n",
    "    return wrapper\n",
    "\n",
    "@polite\n",
    "def quadrato(x):\n",
    "    x=x*x\n",
    "    return x\n",
    "\n",
    "print(quadrato(7))"
   ]
  },
  {
   "cell_type": "markdown",
   "metadata": {},
   "source": [
    "4\\. Write the factorial function so that it a) does and b) does not use recursion."
   ]
  },
  {
   "cell_type": "code",
   "execution_count": 3,
   "metadata": {},
   "outputs": [
    {
     "name": "stdout",
     "output_type": "stream",
     "text": [
      "4 ! = 24\n",
      "6 ! = 720\n"
     ]
    }
   ],
   "source": [
    "#NO recursion\n",
    "def factorial(n):\n",
    "    nfac=n\n",
    "    for i in range(1,n):\n",
    "        nfac*=i\n",
    "    return nfac\n",
    "\n",
    "x=4\n",
    "print(x,\"! =\", factorial(4))\n",
    "\n",
    "#recursion\n",
    "def rec_factorial(n):\n",
    "    if(n>1):    \n",
    "        return n*rec_factorial(n-1)\n",
    "    elif(n==1):\n",
    "        return n\n",
    "\n",
    "x=6\n",
    "print(x,\"! =\", rec_factorial(x))"
   ]
  },
  {
   "cell_type": "markdown",
   "metadata": {},
   "source": [
    "5\\. Use HOFs (zip in particular) to compute the weight of a circle, a disk and a sphere, assuming different radii and different densities:\n",
    "\n",
    "```python\n",
    "densities = {\"Al\":[0.5,1,2],\"Fe\":[3,4,5],\"Pb\": [15,20,30]}\n",
    "radii = [1,2,3]\n",
    "```\n",
    "\n",
    "where the entries of the dictionary's values are the linear, superficial and volumetric densities of the materials respectively.\n",
    "\n",
    "In particular define a list of three lambda functions using a comprehension that computes the circumference, the area and the volume for a given radius."
   ]
  },
  {
   "cell_type": "code",
   "execution_count": 36,
   "metadata": {},
   "outputs": [
    {
     "name": "stdout",
     "output_type": "stream",
     "text": [
      "Al 0.5 1 [3.141592653589793, 1.5707963267948966, 2.0943951023931953]\n",
      "Al 1 2 [12.566370614359172, 12.566370614359172, 33.510321638291124]\n",
      "Al 2 3 [37.69911184307752, 56.548667764616276, 226.1946710584651]\n",
      "Fe 3 1 [18.84955592153876, 9.42477796076938, 12.566370614359172]\n",
      "Fe 4 2 [50.26548245743669, 50.26548245743669, 134.0412865531645]\n",
      "Fe 5 3 [94.24777960769379, 141.3716694115407, 565.4866776461628]\n",
      "Pb 15 1 [94.24777960769379, 47.12388980384689, 62.831853071795855]\n",
      "Pb 20 2 [251.32741228718345, 251.32741228718345, 670.2064327658226]\n",
      "Pb 30 3 [565.4866776461628, 848.2300164692441, 3392.9200658769764]\n"
     ]
    }
   ],
   "source": [
    "import math\n",
    "\n",
    "densities = {\"Al\":[0.5,1,2],\"Fe\":[3,4,5],\"Pb\": [15,20,30]}\n",
    "radii = [1,2,3]\n",
    "\n",
    "circ = lambda dens, ragg: dens*ragg*2*math.pi\n",
    "area = lambda dens, ragg: dens*ragg*ragg*math.pi\n",
    "volu = lambda dens, ragg: dens*4*pow(ragg,3)*math.pi/3\n",
    "\n",
    "def measures(d,r):\n",
    "    m=[circ(d,r),area(d,r),volu(d,r)]\n",
    "    return m\n",
    "\n",
    "for x,y in zip(densities.values(), densities.keys()):\n",
    "    for rho, ers in zip(x,radii):        \n",
    "        #print(\"circ(\",y,\",\",rho,\",\",ers,\")=\",circ(rho, ers))        \n",
    "        #print(\"area(\",y,\",\",rho,\",\",ers,\")=\",area(rho, ers))\n",
    "        #print(\"volu(\",y,\",\",rho,\",\",ers,\")=\",volu(rho, ers))\n",
    "        print(y,rho,ers,measures(rho,ers))"
   ]
  },
  {
   "cell_type": "markdown",
   "metadata": {},
   "source": [
    "6\\. Edit the class defintion to add an instance attribute of is_hungry = True to the Dog class. Then add a method called eat() which changes the value of is_hungry to False when called. Figure out the best way to feed each dog and then output “My dogs are hungry.” if all are hungry or “My dogs are not hungry.” if all are not hungry. The final output should look like this:\n",
    "\n",
    "`I have 3 dogs. \n",
    "Tom is 6. \n",
    "Fletcher is 7. \n",
    "Larry is 9. \n",
    "And they're all mammals, of course. \n",
    "My dogs are not hungry.\n",
    "`\n",
    "\n",
    "```python\n",
    "\n",
    "```\n"
   ]
  },
  {
   "cell_type": "code",
   "execution_count": 127,
   "metadata": {},
   "outputs": [
    {
     "name": "stdout",
     "output_type": "stream",
     "text": [
      "Fufi runs 3km/h\n",
      "Artoo says behold\n",
      "I have 4 dogs. \n",
      "Cane0 is 0 years old\n",
      "Cane1 is 1 years old\n",
      "Cane2 is 2 years old\n",
      "Cane3 is 3 years old\n",
      "And they're all mammals, of course. \n",
      "My dogs are not hungry.\n",
      "Cane2 is not hungry\n"
     ]
    }
   ],
   "source": [
    "# Parent class\n",
    "class Dog:\n",
    "\n",
    "    # Class attribute\n",
    "    species = 'mammal'\n",
    "    is_hungry=True\n",
    "\n",
    "    # Initializer / Instance attributes\n",
    "    def __init__(self, name, age):\n",
    "        self.name = name\n",
    "        self.age = age\n",
    "\n",
    "    # instance method\n",
    "    def description(self):\n",
    "        return \"{} is {} years old\".format(self.name, self.age)\n",
    "\n",
    "    # instance method\n",
    "    def speak(self, sound):\n",
    "        return \"{} says {}\".format(self.name, sound)\n",
    "    \n",
    "    #instance method\n",
    "    def eat(self):\n",
    "        if(self.is_hungry == True):\n",
    "            self.is_hungry = False\n",
    "            return \"{} ate his meal!\".format(self.name)\n",
    "        else: \n",
    "            return \"{} is not hungry\".format(self.name)\n",
    "        \n",
    "\n",
    "# Child class (inherits from Dog class)\n",
    "class RussellTerrier(Dog):\n",
    "    def run(self, speed):\n",
    "        return \"{} runs {}\".format(self.name, speed)\n",
    "\n",
    "# Child class (inherits from Dog class)\n",
    "class Bulldog(Dog):\n",
    "    def run(self, speed):\n",
    "        return \"{} runs {}\".format(self.name, speed)\n",
    "    \n",
    "dog1=Dog(\"Artoo\",3)\n",
    "dog2=Bulldog(\"Fufi\",2)\n",
    "\n",
    "print(dog2.run(\"3km/h\"))\n",
    "print(dog1.speak(\"behold\"))\n",
    "\n",
    "OneDoge = lambda x: Dog(\"Cane\"+str(x),x)\n",
    "MoreDoges = lambda x: [OneDoge(x) for x in range(x)]\n",
    "dog3=OneDoge(3)\n",
    "\n",
    "dogecount=4\n",
    "doges=MoreDoges(4)\n",
    "    \n",
    "text1 = \"I have \"+str(dogecount)+\" dogs. \"\n",
    "text2 = \"And they're all mammals, of course. \"\n",
    "text3 = \"My dogs are not hungry.\"\n",
    "print(text1)\n",
    "satiated=True\n",
    "for i in doges:\n",
    "    print(i.description())\n",
    "    i.eat()\n",
    "    if(i.is_hungry==True):\n",
    "        satiated=False\n",
    "print(text2)\n",
    "if (satiated==True):\n",
    "    print(text3)\n",
    "print(doges[2].eat())"
   ]
  },
  {
   "cell_type": "code",
   "execution_count": null,
   "metadata": {},
   "outputs": [],
   "source": []
  }
 ],
 "metadata": {
  "kernelspec": {
   "display_name": "Python 3 (ipykernel)",
   "language": "python",
   "name": "python3"
  },
  "language_info": {
   "codemirror_mode": {
    "name": "ipython",
    "version": 3
   },
   "file_extension": ".py",
   "mimetype": "text/x-python",
   "name": "python",
   "nbconvert_exporter": "python",
   "pygments_lexer": "ipython3",
   "version": "3.9.12"
  }
 },
 "nbformat": 4,
 "nbformat_minor": 2
}
