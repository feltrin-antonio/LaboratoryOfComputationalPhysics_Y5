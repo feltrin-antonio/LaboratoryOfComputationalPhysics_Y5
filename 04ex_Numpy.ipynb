{
 "cells": [
  {
   "cell_type": "markdown",
   "metadata": {},
   "source": [
    "### Numpy basics"
   ]
  },
  {
   "cell_type": "markdown",
   "metadata": {},
   "source": [
    "1\\. Find the row, column and overall means for the following matrix:\n",
    "\n",
    "```python\n",
    "m = np.arange(12).reshape((3,4))\n",
    "```"
   ]
  },
  {
   "cell_type": "code",
   "execution_count": 17,
   "metadata": {},
   "outputs": [
    {
     "name": "stdout",
     "output_type": "stream",
     "text": [
      "[[ 0  1  2  3]\n",
      " [ 4  5  6  7]\n",
      " [ 8  9 10 11]]\n",
      "[[ 0  4  8]\n",
      " [ 1  5  9]\n",
      " [ 2  6 10]\n",
      " [ 3  7 11]]\n",
      "rowmeans [1.5, 5.5, 9.5] colmeans [4.0, 5.0, 6.0, 7.0] allmean [5.5]\n"
     ]
    }
   ],
   "source": [
    "import numpy as np\n",
    "m = np.arange(12).reshape((3,4))\n",
    "print(m)\n",
    "m1=m.T\n",
    "print(m1)\n",
    "\n",
    "def avg(x):\n",
    "    xsize=len(x)\n",
    "    mean=0\n",
    "    for i in range(0,xsize):\n",
    "        mean+=x[i]\n",
    "    return mean/xsize\n",
    "\n",
    "rowmeans=[]\n",
    "colmeans=[]\n",
    "for i in range(0,3):\n",
    "    rowmeans.append(avg(m[i]))\n",
    "for i in range(0,4):\n",
    "    colmeans.append(avg(m1[i]))\n",
    "\n",
    "allmean=avg(m.reshape(12,1))\n",
    "\n",
    "print('rowmeans', rowmeans,'colmeans',colmeans, 'allmean',allmean)\n"
   ]
  },
  {
   "cell_type": "markdown",
   "metadata": {},
   "source": [
    "2\\. Find the outer product of the following two vecotrs\n",
    "\n",
    "```python\n",
    "u = np.array([1,3,5,7])\n",
    "v = np.array([2,4,6,8])\n",
    "```\n",
    "\n",
    "Do this in the following ways:\n",
    "\n",
    "   * A Using the function outer in numpy\n",
    "   * B Using a nested for loop or list comprehension\n",
    "   * C Using numpy broadcasting operatoins\n"
   ]
  },
  {
   "cell_type": "code",
   "execution_count": 37,
   "metadata": {},
   "outputs": [
    {
     "name": "stdout",
     "output_type": "stream",
     "text": [
      "[[ 2  4  6  8]\n",
      " [ 6 12 18 24]\n",
      " [10 20 30 40]\n",
      " [14 28 42 56]]\n",
      "[[ 2  4  6  8]\n",
      " [ 6 12 18 24]\n",
      " [10 20 30 40]\n",
      " [14 28 42 56]]\n",
      "original array u: \n",
      " [[1 1 1 1]\n",
      " [3 3 3 3]\n",
      " [5 5 5 5]\n",
      " [7 7 7 7]] \n",
      "\n",
      "original array v: \n",
      " [[2 4 6 8]\n",
      " [2 4 6 8]\n",
      " [2 4 6 8]\n",
      " [2 4 6 8]] \n",
      "\n",
      "[[ 2  4  6  8]\n",
      " [ 6 12 18 24]\n",
      " [10 20 30 40]\n",
      " [14 28 42 56]]\n"
     ]
    }
   ],
   "source": [
    "#2A\n",
    "u = np.array([1,3,5,7])\n",
    "v = np.array([2,4,6,8])\n",
    "print(np.outer(u,v))\n",
    "\n",
    "#2B\n",
    "uv = np.array([[a*b for b in v ] for a in u])\n",
    "print(uv)\n",
    "\n",
    "#2C\n",
    "u = np.tile(u, (4,1)).T\n",
    "v = np.tile(v,(4,1))\n",
    "print(\"original array u:\", '\\n', u, '\\n')\n",
    "print(\"original array v:\", '\\n', v, '\\n')\n",
    "print(v*u)"
   ]
  },
  {
   "cell_type": "markdown",
   "metadata": {},
   "source": [
    "3\\. Create a 10 by 6 matrix of random uniform numbers. Set all rows with any entry less than 0.1 to be zero\n",
    "\n",
    "Hint: Use the following numpy functions - np.random.random, np.any as well as Boolean indexing and the axis argument."
   ]
  },
  {
   "cell_type": "code",
   "execution_count": 84,
   "metadata": {},
   "outputs": [
    {
     "name": "stdout",
     "output_type": "stream",
     "text": [
      "shape =  (200, 200)\n",
      "using npr.rand, avg =  0.5027408618106781   using np.rand.rand, avg =  0.5017931232393528\n",
      "arr: shp =  (10, 6)  arr: avg =  0.4640775278058615 \n",
      " [[0.17030147 0.71372811 0.22668864 0.24328845 0.34791129 0.06414512]\n",
      " [0.39484046 0.79631057 0.06923423 0.24501664 0.93048514 0.24179501]\n",
      " [0.00931742 0.12107465 0.15768789 0.14596167 0.90910181 0.82020322]\n",
      " [0.97656567 0.64676342 0.24316146 0.30387372 0.57728156 0.29289389]\n",
      " [0.3138635  0.06533957 0.36143519 0.25659879 0.93450482 0.90832787]\n",
      " [0.91989313 0.83019138 0.98540387 0.22446925 0.87851952 0.0573937 ]\n",
      " [0.55295397 0.20974116 0.98901992 0.94699526 0.45884921 0.85054551]\n",
      " [0.53163672 0.86549855 0.76507892 0.04690245 0.45729287 0.96977066]\n",
      " [0.05843789 0.44348264 0.23744497 0.43755167 0.22401547 0.9695909 ]\n",
      " [0.17491381 0.95373684 0.17192089 0.00820152 0.02759815 0.10989962]] \n",
      "\n",
      "masks  [array([False, False, False, False, False,  True]), array([False, False,  True, False, False, False]), array([ True, False, False, False, False, False]), array([False, False, False, False, False, False]), array([False,  True, False, False, False, False]), array([False, False, False, False, False,  True]), array([False, False, False, False, False, False]), array([False, False, False,  True, False, False]), array([ True, False, False, False, False, False]), array([False, False, False,  True,  True, False])]\n",
      "matest \n",
      " [[ 0  1  2  3]\n",
      " [ 4  5  6  7]\n",
      " [ 8  9 10 11]]\n",
      "any?  [ True  True  True  True  True  True]\n"
     ]
    }
   ],
   "source": [
    "import numpy.random as npr\n",
    "npr.seed(123456)\n",
    "\n",
    "rnd2_arr = np.array([[np.random.random() for i in range(200)] for j in range(200)]) #random.random()\n",
    "npr_arr = npr.rand(200,200) #random.rand(d0,d1,...,dN) N rank array\n",
    "\n",
    "print('shape = ',rnd2_arr.shape)\n",
    "\n",
    "print('using npr.rand, avg = ',np.mean(npr_arr),'  using np.rand.rand, avg = ',np.mean(rnd2_arr))\n",
    "\n",
    "arr = npr.rand(10,6)\n",
    "print (\"arr: shp = \",arr.shape,\" arr: avg = \",np.mean(arr),'\\n', arr,'\\n') \n",
    "\n",
    "masks = []\n",
    "for i in range(arr.shape[0]):\n",
    "    mask1=(arr[i]<0.1)\n",
    "    masks.append(mask1)    \n",
    "    \n",
    "print('masks ',masks)\n",
    "\n",
    "#np.any(arr, axis=0, out=None, keepdims=<no value>, *, where=<no value>)\n",
    "matest=np.arange(12).reshape(3,4)\n",
    "print('matest','\\n', matest)\n",
    "asdf = np.any(masks, axis=0)\n",
    "\n",
    "print('any? ',asdf)\n",
    "\n"
   ]
  },
  {
   "cell_type": "markdown",
   "metadata": {},
   "source": [
    "4\\. Use np.linspace to create an array of 100 numbers between 0 and 2π (includsive).\n",
    "\n",
    "  * Extract every 10th element using slice notation\n",
    "  * Reverse the array using slice notation\n",
    "  * Extract elements where the absolute difference between the sine and cosine functions evaluated at that element is less than 0.1\n",
    "  * Make a plot showing the sin and cos functions and indicate where they are close"
   ]
  },
  {
   "cell_type": "markdown",
   "metadata": {},
   "source": [
    "5\\. Create a matrix that shows the 10 by 10 multiplication table.\n",
    "\n",
    " * Find the trace of the matrix\n",
    " * Extract the anto-diagonal (this should be ```array([10, 18, 24, 28, 30, 30, 28, 24, 18, 10])```)\n",
    " * Extract the diagnoal offset by 1 upwards (this should be ```array([ 2,  6, 12, 20, 30, 42, 56, 72, 90])```)"
   ]
  },
  {
   "cell_type": "markdown",
   "metadata": {},
   "source": [
    "6\\. Use broadcasting to create a grid of distances\n",
    "\n",
    "Route 66 crosses the following cities in the US: Chicago, Springfield, Saint-Louis, Tulsa, Oklahoma City, Amarillo, Santa Fe, Albuquerque, Flagstaff, Los Angeles\n",
    "The corresponding positions in miles are: 0, 198, 303, 736, 871, 1175, 1475, 1544, 1913, 2448\n",
    "\n",
    "  * Construct a 2D grid of distances among each city along Route 66\n",
    "  * Convert that in km (those savages...)"
   ]
  },
  {
   "cell_type": "markdown",
   "metadata": {},
   "source": [
    "7\\. Prime numbers sieve: compute the prime numbers in the 0-N (N=99 to start with) range with a sieve (mask).\n",
    "  * Constract a shape (100,) boolean array, the mask\n",
    "  * Identify the multiples of each number starting from 2 and set accordingly the corresponding mask element\n",
    "  * Apply the mask to obtain an array of ordered prime numbers\n",
    "  * Check the performances (timeit); how does it scale with N?\n",
    "  * Implement the optimization suggested in the [sieve of Eratosthenes](https://en.wikipedia.org/wiki/Sieve_of_Eratosthenes)"
   ]
  },
  {
   "cell_type": "markdown",
   "metadata": {},
   "source": [
    "**N.B. the following exercises are meant to be solved only if you are familiar with the numpy random library. If not you can skip them (postponed for one of the next exercise sessions)**\n"
   ]
  },
  {
   "cell_type": "markdown",
   "metadata": {},
   "source": [
    "8\\. Diffusion using random walk\n",
    "\n",
    "Consider a simple random walk process: at each step in time, a walker jumps right or left (+1 or -1) with equal probability. The goal is to find the typical distance from the origin of a random walker after a given amount of time. \n",
    "To do that, let's simulate many walkers and create a 2D array with each walker as a raw and the actual time evolution as columns\n",
    "\n",
    "  * Take 1000 walkers and let them walk for 200 steps\n",
    "  * Use randint to create a 2D array of size walkers x steps with values -1 or 1\n",
    "  * Build the actual walking distances for each walker (i.e. another 2D array \"summing on each raw\")\n",
    "  * Take the square of that 2D array (elementwise)\n",
    "  * Compute the mean of the squared distances at each step (i.e. the mean along the columns)\n",
    "  * Plot the average distances (sqrt(distance\\*\\*2)) as a function of time (step)\n",
    "  \n",
    "Did you get what you expected?"
   ]
  },
  {
   "cell_type": "markdown",
   "metadata": {},
   "source": [
    "9\\. Analyze a data file \n",
    "  * Download the population of hares, lynxes and carrots at the beginning of the last century.\n",
    "    ```python\n",
    "    ! wget https://www.dropbox.com/s/3vigxoqayo389uc/populations.txt\n",
    "    ```\n",
    "\n",
    "  * Check the content by looking within the file\n",
    "  * Load the data (use an appropriate numpy method) into a 2D array\n",
    "  * Create arrays out of the columns, the arrays being (in order): *year*, *hares*, *lynxes*, *carrots* \n",
    "  * Plot the 3 populations over the years\n",
    "  * Compute the main statistical properties of the dataset (mean, std, correlations, etc.)\n",
    "  * Which species has the highest population each year?\n",
    "\n",
    "Do you feel there is some evident correlation here? [Studies](https://www.enr.gov.nt.ca/en/services/lynx/lynx-snowshoe-hare-cycle) tend to believe so."
   ]
  }
 ],
 "metadata": {
  "kernelspec": {
   "display_name": "Python 3 (ipykernel)",
   "language": "python",
   "name": "python3"
  },
  "language_info": {
   "codemirror_mode": {
    "name": "ipython",
    "version": 3
   },
   "file_extension": ".py",
   "mimetype": "text/x-python",
   "name": "python",
   "nbconvert_exporter": "python",
   "pygments_lexer": "ipython3",
   "version": "3.9.12"
  }
 },
 "nbformat": 4,
 "nbformat_minor": 2
}
