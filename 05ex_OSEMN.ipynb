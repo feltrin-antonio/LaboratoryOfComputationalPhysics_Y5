{
 "cells": [
  {
   "cell_type": "markdown",
   "metadata": {},
   "source": [
    "# OSEMN Exercises"
   ]
  },
  {
   "cell_type": "code",
   "execution_count": 1,
   "metadata": {},
   "outputs": [],
   "source": [
    "%matplotlib inline\n",
    "import pandas as pd\n",
    "import numpy as np"
   ]
  },
  {
   "cell_type": "markdown",
   "metadata": {},
   "source": [
    "1\\. Create a random list of number and then save it to a text file named \"simple_data.txt\""
   ]
  },
  {
   "cell_type": "code",
   "execution_count": 19,
   "metadata": {},
   "outputs": [
    {
     "name": "stdout",
     "output_type": "stream",
     "text": [
      "simple data: \n",
      " [0.8765887  0.98849261 0.96817361 0.64784406 0.55442852 0.33099578\n",
      " 0.61836705 0.92019021 0.82863804 0.82886953 0.97379684 0.09204352\n",
      " 0.12152554 0.2982897  0.34796226 0.19904243 0.64592899 0.90824288\n",
      " 0.04760195 0.61546417 0.52745333 0.37241116 0.01761652 0.70446205\n",
      " 0.24301878 0.56730628 0.03242647 0.86475833 0.00977616 0.51446964\n",
      " 0.20374266 0.58388841 0.82954232 0.99733426 0.61758466 0.33543805\n",
      " 0.22333179 0.15763204 0.02193412 0.84937837 0.32423215 0.99485674\n",
      " 0.2420767  0.17365034 0.62074661 0.86521222 0.37939368 0.31214468\n",
      " 0.96897424 0.71415689 0.18765036 0.59611222 0.84356375 0.66204127\n",
      " 0.51544939 0.55682469 0.66343128 0.63380941 0.51116871 0.96881604\n",
      " 0.31050779 0.23245157 0.67537437 0.38001502 0.94403634 0.05592544\n",
      " 0.33221719 0.99992998 0.61965085 0.02299042 0.1503989  0.47711845\n",
      " 0.35859136 0.56392865 0.29603364 0.04792043 0.61209545 0.12252967\n",
      " 0.72141138 0.15742231 0.99056498 0.93160086 0.19681974 0.71869874\n",
      " 0.54086458 0.99263573 0.86437663 0.99216551 0.66546517 0.82515723\n",
      " 0.49553822 0.80487961 0.39951883 0.30012663 0.81849962 0.89634811\n",
      " 0.20566463 0.71251901 0.55694476 0.34733531] \n",
      "\n"
     ]
    }
   ],
   "source": [
    "import numpy.random as npr\n",
    "npr.seed(1187163)\n",
    "simpledata = [npr.rand() for i in range(0,100)]\n",
    "simpledata = np.array(simpledata)\n",
    "print (\"simple data:\",\"\\n\",simpledata,\"\\n\" )\n",
    "\n",
    "simplename = 'simple_data.txt'\n",
    "with open('simple_data.txt', 'w') as f:\n",
    "    print(\"#\", simplename,file=f)\n",
    "    for i in range(0,len(simpledata)):\n",
    "        print(simpledata[i], file=f)"
   ]
  },
  {
   "cell_type": "markdown",
   "metadata": {},
   "source": [
    "2\\. Create a random matrix of 5x5 and then save it to a text file named \"data.txt\""
   ]
  },
  {
   "cell_type": "code",
   "execution_count": 31,
   "metadata": {},
   "outputs": [
    {
     "name": "stdout",
     "output_type": "stream",
     "text": [
      "[[0.16899632 0.21837894 0.87593822 0.72696791 0.60944196]\n",
      " [0.84784263 0.72396952 0.78772989 0.62415597 0.68690058]\n",
      " [0.31993408 0.10000498 0.84084402 0.12981277 0.48149876]\n",
      " [0.31010138 0.13643499 0.09630053 0.17472705 0.53527965]\n",
      " [0.28774834 0.73579671 0.9501307  0.45181758 0.53500769]]\n",
      "shape (5, 5)\n",
      "0.6094419595361918\n"
     ]
    }
   ],
   "source": [
    "data55 = np.array([[npr.rand() for i in range(0,5)] for j in range(0,5)])\n",
    "print(data55)\n",
    "print(\"shape\",data55.shape)\n",
    "\n",
    "name55 = 'data.txt'\n",
    "with open('data.txt', 'w') as f:\n",
    "    print(\"#\",name55,file=f)\n",
    "    for i in range(0,len(data55)):\n",
    "        for j in range(0,len(data55)):\n",
    "            print(data55[i][j], end=' ', file=f)\n",
    "        print('',file=f)\n",
    "print(data55[0][4])"
   ]
  },
  {
   "cell_type": "markdown",
   "metadata": {},
   "source": [
    "3\\. Load the saved txt file of point 2 and convert it to a csv file (by hand)"
   ]
  },
  {
   "cell_type": "code",
   "execution_count": 39,
   "metadata": {},
   "outputs": [
    {
     "name": "stdout",
     "output_type": "stream",
     "text": [
      "[[0.16899632 0.21837894 0.87593822 0.72696791 0.60944196]\n",
      " [0.84784263 0.72396952 0.78772989 0.62415597 0.68690058]\n",
      " [0.31993408 0.10000498 0.84084402 0.12981277 0.48149876]\n",
      " [0.31010138 0.13643499 0.09630053 0.17472705 0.53527965]\n",
      " [0.28774834 0.73579671 0.9501307  0.45181758 0.53500769]]\n",
      "0.6094419595361918\n"
     ]
    }
   ],
   "source": [
    "import csv\n",
    "\n",
    "read55 = np.loadtxt(name55, comments='#')\n",
    "print(read55)\n",
    "\n",
    "#with open(simplenamec, 'w', newline='') as f: #all in one row\n",
    "#    wr = csv.writer(f)\n",
    "#    wr.writerow(readsimple)\n",
    "    \n",
    "#newline for each line\n",
    "np.savetxt('data55a.csv', read55, delimiter=\",\", fmt='%s')   \n",
    "\n",
    "with open('data55.csv', 'w') as f:\n",
    "    print(\"#\",name55,file=f)\n",
    "    for i in range(0,len(read55)):\n",
    "        for j in range(0,len(read55)):\n",
    "            print(data55[i][j], end=',', file=f)\n",
    "        print('',file=f)\n",
    "print(data55[0][4])"
   ]
  },
  {
   "cell_type": "markdown",
   "metadata": {},
   "source": [
    "4\\. load the binary file named *credit_card.dat* and convert the data into the real credit-card number.\n",
    "Each line correspond to a credit card number.\n",
    "Each character is composed by 6 bit (even the space) and the last 4 bit are just a padding\n",
    "\n",
    "**hint**: use the `chr()` function to convert a number to a char"
   ]
  },
  {
   "cell_type": "markdown",
   "metadata": {},
   "source": [
    "5\\. Load the file \"user_data.json\", filter the data by the \"CreditCardType\" field equals to \"American Express\". Than save the data a to CSV."
   ]
  },
  {
   "cell_type": "markdown",
   "metadata": {},
   "source": [
    "6\\. Load the file from this url: [https://www.dropbox.com/s/7u3lm737ogbqsg8/mushrooms_categorized.csv?dl=1](https://www.dropbox.com/s/7u3lm737ogbqsg8/mushrooms_categorized.csv?dl=1) with Pandas. \n",
    "+ Explore the data (see the info of the data)\n",
    "+ Draw the istogram of the 'class' field. Decribe wath yuou see\n"
   ]
  },
  {
   "cell_type": "markdown",
   "metadata": {},
   "source": [
    "7\\. Load the remote file [https://www.dropbox.com/s/vkl89yce7xjdq4n/regression_generated.csv?dl=1](https://www.dropbox.com/s/vkl89yce7xjdq4n/regression_generated.csv?dl=1) with Pandas and plot a scatter plot all possible combination of the following fields:\n",
    "    \n",
    "  + features_1\n",
    "  + features_2\n",
    "  + features_3"
   ]
  },
  {
   "cell_type": "markdown",
   "metadata": {},
   "source": [
    "8\\. Load the same file of point 6, and convert the file to json with Pandas."
   ]
  }
 ],
 "metadata": {
  "kernelspec": {
   "display_name": "Python 3 (ipykernel)",
   "language": "python",
   "name": "python3"
  },
  "language_info": {
   "codemirror_mode": {
    "name": "ipython",
    "version": 3
   },
   "file_extension": ".py",
   "mimetype": "text/x-python",
   "name": "python",
   "nbconvert_exporter": "python",
   "pygments_lexer": "ipython3",
   "version": "3.9.12"
  }
 },
 "nbformat": 4,
 "nbformat_minor": 2
}
